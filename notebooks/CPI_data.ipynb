{
 "cells": [
  {
   "cell_type": "markdown",
   "id": "379cad20",
   "metadata": {},
   "source": [
    "# Forecasting Consensus Expectations: Consumer Price Index (CPI)\n",
    "\n",
    "## Data preprocessing"
   ]
  },
  {
   "cell_type": "markdown",
   "id": "a144dc4a",
   "metadata": {},
   "source": [
    "**Imports**"
   ]
  },
  {
   "cell_type": "code",
   "execution_count": 50,
   "id": "8702b76e",
   "metadata": {},
   "outputs": [],
   "source": [
    "import os\n",
    "import pandas as pd\n",
    "import matplotlib.pyplot as plt\n",
    "import numpy as np\n",
    "import scipy.stats as st\n",
    "\n",
    "from tqdm.auto import tqdm\n",
    "from scipy import stats, special\n",
    "from scipy.optimize import brentq\n",
    "from collections import defaultdict\n",
    "from itertools import product\n",
    "from scipy.stats import t as student_t, norm, binomtest, jarque_bera"
   ]
  },
  {
   "cell_type": "markdown",
   "id": "f532e881",
   "metadata": {},
   "source": [
    "**Load & Preprocess**"
   ]
  },
  {
   "cell_type": "code",
   "execution_count": 51,
   "id": "78824b8c",
   "metadata": {},
   "outputs": [],
   "source": [
    "CPI_MOM_PATH = \"../raw/CORECPI_MoM_historical.xlsx\"\n",
    "CPI_YOY_PATH = \"../raw/CORECPI_YoY_historical.xlsx\""
   ]
  },
  {
   "cell_type": "code",
   "execution_count": 52,
   "id": "c734e519",
   "metadata": {},
   "outputs": [],
   "source": [
    "\n",
    "#general historical loader\n",
    "\n",
    "def load_bbg_history(path: str, series_name: str) -> pd.DataFrame:\n",
    "    \"\"\"\n",
    "    Convert a Bloomberg *historical.xlsx* file to one-row-per-forecaster long panel.\n",
    "\n",
    "    Returns a DataFrame with columns:\n",
    "    release_date | period | economist | firm | forecast | actual | asof\n",
    "    plus         median_survey | error | surprise | series\n",
    "    \"\"\"\n",
    "    hist_raw = pd.read_excel(path, sheet_name=0, header=None, engine=\"openpyxl\")\n",
    "\n",
    "    # --- identify header rows -------------------------------------------------\n",
    "    name_row, firm_row = hist_raw.iloc[1], hist_raw.iloc[2]\n",
    "\n",
    "    base = hist_raw.iloc[3:, :4].copy()\n",
    "    base.columns = [\"release_date\", \"period\", \"median_survey\", \"actual\"]\n",
    "    base[\"release_date\"]  = pd.to_datetime(base[\"release_date\"])\n",
    "    base[\"period\"]        = pd.to_datetime(base[\"period\"])\n",
    "    base[\"median_survey\"] = pd.to_numeric(base[\"median_survey\"], errors=\"coerce\")\n",
    "    base[\"actual\"]        = pd.to_numeric(base[\"actual\"],        errors=\"coerce\")\n",
    "\n",
    "    # --- long-form economist block -------------------------------------------\n",
    "    skip = {\"Summary\", \"Actual\", \"Economist\", \"Median Survey\"}\n",
    "    econ_cols = [i for i, v in enumerate(name_row) if isinstance(v, str) and v not in skip]\n",
    "    ASOF_FMT  = \"%m/%d/%Y\"\n",
    "\n",
    "    long_frames = []\n",
    "    for pos in econ_cols:\n",
    "        asof_pos = pos - 1\n",
    "        tmp = base.copy()\n",
    "\n",
    "        tmp[\"economist\"] = name_row.iloc[pos]\n",
    "        tmp[\"firm\"]      = firm_row.iloc[pos]\n",
    "        tmp[\"forecast\"]  = pd.to_numeric(hist_raw.iloc[3:, pos], errors=\"coerce\")\n",
    "        tmp[\"asof\"]      = pd.to_datetime(hist_raw.iloc[3:, asof_pos],\n",
    "                                          format=ASOF_FMT, errors=\"coerce\", cache=True)\n",
    "        long_frames.append(tmp)\n",
    "\n",
    "    hist_long = pd.concat(long_frames, ignore_index=True)\n",
    "\n",
    "    # --- keep only the last forecast per economist per release ---------------\n",
    "    df_full = (hist_long\n",
    "               .sort_values([\"release_date\", \"economist\", \"asof\"])\n",
    "               .groupby([\"release_date\", \"economist\"], as_index=False)\n",
    "               .tail(1)\n",
    "               .reset_index(drop=True))\n",
    "    \n",
    "    # economists must have ≥ 6 non-NaN forecasts overall\n",
    "    valid_counts = (df_full\n",
    "                    .groupby(\"economist\")[\"forecast\"]\n",
    "                    .transform(lambda s: s.notna().sum()))\n",
    "    df_full = df_full[valid_counts >= 3].copy()\n",
    "    \n",
    "    # --- sanity checks (same as IJC) -----------------------------------------\n",
    "    assert df_full.duplicated(subset=[\"release_date\", \"economist\"]).sum() == 0\n",
    "    valid_asof = df_full[\"asof\"].notna()\n",
    "    assert (df_full.loc[valid_asof, \"asof\"]\n",
    "            <= df_full.loc[valid_asof, \"release_date\"]).all()\n",
    "    assert (df_full.groupby(\"release_date\")[\"actual\"].nunique() <= 1).all()\n",
    "\n",
    "    # --- diagnostic columns ---------------------------------------------------\n",
    "    df_full[\"error\"]    = df_full[\"forecast\"] - df_full[\"actual\"]\n",
    "    df_full[\"surprise\"] = df_full[\"actual\"]   - df_full[\"median_survey\"]\n",
    "    df_full[\"series\"]   = series_name         # \"Core CPI M/M\" or \"Core CPI Y/Y\"\n",
    "\n",
    "    # optional: match your NFP time cut-offs\n",
    "    df_full = df_full[df_full[\"release_date\"] >= \"2006-01-01\"]\n",
    "\n",
    "    # COVID exclusion (mirrors IJC logic)\n",
    "    df      = df_full[~df_full[\"release_date\"].between(\"2020-01-01\", \"2022-12-31\")]\n",
    "\n",
    "    return df, df_full\n"
   ]
  },
  {
   "cell_type": "code",
   "execution_count": 53,
   "id": "95054f8e",
   "metadata": {},
   "outputs": [],
   "source": [
    "cpi_mom, cpi_mom_full = load_bbg_history(CPI_MOM_PATH, \"Core CPI M/M\")\n",
    "cpi_yoy, cpi_yoy_full = load_bbg_history(CPI_YOY_PATH, \"Core CPI Y/Y\")"
   ]
  },
  {
   "cell_type": "code",
   "execution_count": 54,
   "id": "e31ce6bc",
   "metadata": {},
   "outputs": [
    {
     "name": "stdout",
     "output_type": "stream",
     "text": [
      "✔️  Saved ➜  ../out/cpi_mom_df.parquet\n",
      "✔️  Saved ➜  ../out/cpi_mom_df_full.parquet\n",
      "✔️  Saved ➜  ../out/cpi_yoy_df.parquet\n",
      "✔️  Saved ➜  ../out/cpi_yoy_df_full.parquet\n"
     ]
    }
   ],
   "source": [
    "OUT_DIR = \"../out\"         \n",
    "\n",
    "# ensure directory exists \n",
    "os.makedirs(OUT_DIR, exist_ok=True)\n",
    "\n",
    "cpi_out = {\n",
    "    \"cpi_mom_df.parquet\"      : cpi_mom,\n",
    "    \"cpi_mom_df_full.parquet\" : cpi_mom_full,\n",
    "    \"cpi_yoy_df.parquet\"      : cpi_yoy,\n",
    "    \"cpi_yoy_df_full.parquet\" : cpi_yoy_full,\n",
    "}\n",
    "\n",
    "for fname, frame in cpi_out.items():\n",
    "    frame.to_parquet(os.path.join(OUT_DIR, fname),\n",
    "                     engine=\"pyarrow\", index=False)\n",
    "    print(f\"✔️  Saved ➜  {OUT_DIR}/{fname}\")"
   ]
  }
 ],
 "metadata": {
  "kernelspec": {
   "display_name": "Python 3",
   "language": "python",
   "name": "python3"
  },
  "language_info": {
   "codemirror_mode": {
    "name": "ipython",
    "version": 3
   },
   "file_extension": ".py",
   "mimetype": "text/x-python",
   "name": "python",
   "nbconvert_exporter": "python",
   "pygments_lexer": "ipython3",
   "version": "3.13.4"
  }
 },
 "nbformat": 4,
 "nbformat_minor": 5
}
