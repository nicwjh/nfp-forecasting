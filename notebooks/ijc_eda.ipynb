{
 "cells": [
  {
   "cell_type": "markdown",
   "id": "9fd8ef11",
   "metadata": {},
   "source": [
    "# Forecasting Consensus Expectations: Initial Jobless Claims\n",
    "## Point and Directional Forecasts"
   ]
  },
  {
   "cell_type": "markdown",
   "id": "fc37ccf5",
   "metadata": {},
   "source": [
    "**Imports**"
   ]
  },
  {
   "cell_type": "code",
   "execution_count": 1,
   "id": "18d70168",
   "metadata": {},
   "outputs": [],
   "source": [
    "import os\n",
    "import warnings\n",
    "import pandas as pd\n",
    "import matplotlib.pyplot as plt\n",
    "import numpy as np\n",
    "import scipy.stats as st\n",
    "\n",
    "from tqdm.auto import tqdm\n",
    "from scipy import stats, special\n",
    "from scipy.optimize import brentq\n",
    "from collections import defaultdict\n",
    "from itertools import product\n",
    "from scipy.stats import t as student_t, norm, binomtest, jarque_bera\n",
    "from arch.univariate import ConstantMean, GARCH, StudentsT\n",
    "from arch.univariate.base import ConvergenceWarning\n",
    "from IPython.display import display, Markdown"
   ]
  },
  {
   "cell_type": "code",
   "execution_count": 2,
   "id": "087aabf1",
   "metadata": {},
   "outputs": [
    {
     "name": "stdout",
     "output_type": "stream",
     "text": [
      "df shape     : (180681, 10)\n",
      "df_full shape: (213651, 10)\n"
     ]
    }
   ],
   "source": [
    "OUT_DIR = \"../out\"         \n",
    "DF_FILE       = \"ijc_df.parquet\"\n",
    "DF_FULL_FILE  = \"ijc_df_full.parquet\"\n",
    "\n",
    "df       = pd.read_parquet(os.path.join(OUT_DIR, DF_FILE),      engine=\"pyarrow\")\n",
    "df_full  = pd.read_parquet(os.path.join(OUT_DIR, DF_FULL_FILE), engine=\"pyarrow\")\n",
    "\n",
    "print(\"df shape     :\", df.shape)\n",
    "print(\"df_full shape:\", df_full.shape)"
   ]
  }
 ],
 "metadata": {
  "kernelspec": {
   "display_name": "Python 3",
   "language": "python",
   "name": "python3"
  },
  "language_info": {
   "codemirror_mode": {
    "name": "ipython",
    "version": 3
   },
   "file_extension": ".py",
   "mimetype": "text/x-python",
   "name": "python",
   "nbconvert_exporter": "python",
   "pygments_lexer": "ipython3",
   "version": "3.13.4"
  }
 },
 "nbformat": 4,
 "nbformat_minor": 5
}
