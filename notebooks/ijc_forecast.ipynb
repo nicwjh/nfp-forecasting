{
 "cells": [
  {
   "cell_type": "markdown",
   "id": "9fd8ef11",
   "metadata": {},
   "source": [
    "# Forecasting Consensus Expectations: Initial Jobless Claims\n",
    "## Point and Directional Forecasts"
   ]
  },
  {
   "cell_type": "markdown",
   "id": "fc37ccf5",
   "metadata": {},
   "source": [
    "**Imports**"
   ]
  },
  {
   "cell_type": "code",
   "execution_count": 1,
   "id": "18d70168",
   "metadata": {},
   "outputs": [],
   "source": [
    "import os\n",
    "import warnings\n",
    "import pandas as pd\n",
    "import matplotlib.pyplot as plt\n",
    "import numpy as np\n",
    "import scipy.stats as st\n",
    "\n",
    "from tqdm.auto import tqdm\n",
    "from scipy import stats, special\n",
    "from scipy.optimize import brentq\n",
    "from collections import defaultdict\n",
    "from itertools import product\n",
    "from scipy.stats import t as student_t, norm, binomtest, jarque_bera\n",
    "from arch.univariate import ConstantMean, GARCH, StudentsT\n",
    "from arch.univariate.base import ConvergenceWarning\n",
    "from IPython.display import display, Markdown"
   ]
  },
  {
   "cell_type": "code",
   "execution_count": 2,
   "id": "087aabf1",
   "metadata": {},
   "outputs": [
    {
     "name": "stdout",
     "output_type": "stream",
     "text": [
      "df shape     : (180681, 10)\n",
      "df_full shape: (213651, 10)\n"
     ]
    }
   ],
   "source": [
    "OUT_DIR = \"../out\"         \n",
    "DF_FILE       = \"ijc_df.parquet\"\n",
    "DF_FULL_FILE  = \"ijc_df_full.parquet\"\n",
    "\n",
    "df       = pd.read_parquet(os.path.join(OUT_DIR, DF_FILE),      engine=\"pyarrow\")\n",
    "df_full  = pd.read_parquet(os.path.join(OUT_DIR, DF_FULL_FILE), engine=\"pyarrow\")\n",
    "\n",
    "print(\"df shape     :\", df.shape)\n",
    "print(\"df_full shape:\", df_full.shape)"
   ]
  },
  {
   "cell_type": "code",
   "execution_count": 8,
   "id": "67478fb0",
   "metadata": {},
   "outputs": [
    {
     "data": {
      "application/vnd.jupyter.widget-view+json": {
       "model_id": "25a75082a94642a58a480033ff32f2d8",
       "version_major": 2,
       "version_minor": 0
      },
      "text/plain": [
       "window × method:   0%|          | 0/9 [00:00<?, ?it/s]"
      ]
     },
     "metadata": {},
     "output_type": "display_data"
    },
    {
     "data": {
      "application/vnd.jupyter.widget-view+json": {
       "model_id": "c20055f9fcd64623bce3308257ceb243",
       "version_major": 2,
       "version_minor": 0
      },
      "text/plain": [
       "4-wk equal:   0%|          | 0/1015 [00:00<?, ?it/s]"
      ]
     },
     "metadata": {},
     "output_type": "display_data"
    },
    {
     "data": {
      "application/vnd.jupyter.widget-view+json": {
       "model_id": "430483cd270a4e3e89e952ca9a303ed7",
       "version_major": 2,
       "version_minor": 0
      },
      "text/plain": [
       "4-wk inv_mae:   0%|          | 0/1015 [00:00<?, ?it/s]"
      ]
     },
     "metadata": {},
     "output_type": "display_data"
    },
    {
     "data": {
      "application/vnd.jupyter.widget-view+json": {
       "model_id": "1ba57b8856164eabaded07b2f1a15686",
       "version_major": 2,
       "version_minor": 0
      },
      "text/plain": [
       "4-wk inv_mse:   0%|          | 0/1015 [00:00<?, ?it/s]"
      ]
     },
     "metadata": {},
     "output_type": "display_data"
    },
    {
     "data": {
      "application/vnd.jupyter.widget-view+json": {
       "model_id": "19773bbd2dac451c9f87ed6409b832c7",
       "version_major": 2,
       "version_minor": 0
      },
      "text/plain": [
       "12-wk equal:   0%|          | 0/1007 [00:00<?, ?it/s]"
      ]
     },
     "metadata": {},
     "output_type": "display_data"
    },
    {
     "data": {
      "application/vnd.jupyter.widget-view+json": {
       "model_id": "81a8c558f16d412898213b98a5748380",
       "version_major": 2,
       "version_minor": 0
      },
      "text/plain": [
       "12-wk inv_mae:   0%|          | 0/1007 [00:00<?, ?it/s]"
      ]
     },
     "metadata": {},
     "output_type": "display_data"
    },
    {
     "data": {
      "application/vnd.jupyter.widget-view+json": {
       "model_id": "742e2fd16d6249e5894a8b3a1f680c94",
       "version_major": 2,
       "version_minor": 0
      },
      "text/plain": [
       "12-wk inv_mse:   0%|          | 0/1007 [00:00<?, ?it/s]"
      ]
     },
     "metadata": {},
     "output_type": "display_data"
    },
    {
     "data": {
      "application/vnd.jupyter.widget-view+json": {
       "model_id": "f3ede48599ca46728a964074fcc1b98e",
       "version_major": 2,
       "version_minor": 0
      },
      "text/plain": [
       "24-wk equal:   0%|          | 0/995 [00:00<?, ?it/s]"
      ]
     },
     "metadata": {},
     "output_type": "display_data"
    },
    {
     "data": {
      "application/vnd.jupyter.widget-view+json": {
       "model_id": "574fcb26b4ea47a1b9fdaaf8bfa1a008",
       "version_major": 2,
       "version_minor": 0
      },
      "text/plain": [
       "24-wk inv_mae:   0%|          | 0/995 [00:00<?, ?it/s]"
      ]
     },
     "metadata": {},
     "output_type": "display_data"
    },
    {
     "data": {
      "application/vnd.jupyter.widget-view+json": {
       "model_id": "89821f654a5849ee843ea2efa275d669",
       "version_major": 2,
       "version_minor": 0
      },
      "text/plain": [
       "24-wk inv_mse:   0%|          | 0/995 [00:00<?, ?it/s]"
      ]
     },
     "metadata": {},
     "output_type": "display_data"
    },
    {
     "name": "stdout",
     "output_type": "stream",
     "text": [
      "=== Individual-method performance ===\n",
      " window  method  obs    RMSE  HitRate\n",
      "      4   equal 1014 116.295    0.551\n",
      "      4 inv_mae 1014  96.728    0.562\n",
      "      4 inv_mse 1014  76.064    0.551\n",
      "     12   equal 1006 116.154    0.562\n",
      "     12 inv_mae 1006 105.431    0.564\n",
      "     12 inv_mse 1006  92.361    0.566\n",
      "     24   equal  994  86.074    0.543\n",
      "     24 inv_mae  994  80.975    0.548\n",
      "     24 inv_mse  994  79.111    0.550\n",
      "\n",
      "Chosen window for ensemble = 12 releases\n",
      "\n",
      "=== Majority-vote ensemble (window 12) ===\n",
      "Observations          : 1006\n",
      "RMSE (ensemble point) : 104.213\n",
      "Hit-rate (direction)  : 0.562\n",
      "\n",
      "--- Latest unreleased week ---\n",
      "equal    point forecast: 234.1\n",
      "inv_mae  point forecast: 233.8\n",
      "inv_mse  point forecast: 233.6\n",
      "Majority vote direction: Miss\n"
     ]
    }
   ],
   "source": [
    "# --------------------------------------------------------------\n",
    "# IJC majority-vote ensemble\n",
    "# • windows: 4, 12, 24 releases  (≈ 1, 3, 6 months)\n",
    "# • methods: equal, inverse-MAE, inverse-MSE\n",
    "# • metrics: point forecast, RMSE, directional hit-rate\n",
    "# --------------------------------------------------------------\n",
    "import numpy as np\n",
    "import pandas as pd\n",
    "from itertools import product\n",
    "from tqdm.auto import tqdm\n",
    "import warnings\n",
    "\n",
    "warnings.filterwarnings(\"ignore\")\n",
    "np.seterr(all=\"ignore\")\n",
    "\n",
    "# ---------- config ----------\n",
    "PANEL   = df_full.copy()          # or df (COVID-filtered)\n",
    "WINDOWS = [4, 12, 24]\n",
    "METHODS = [\"equal\", \"inv_mae\", \"inv_mse\"]\n",
    "RIDGE   = 1e-6\n",
    "\n",
    "# ---------- helper ----------\n",
    "def calc_weights(hist: pd.DataFrame, method: str) -> pd.Series:\n",
    "    \"\"\"Return Series of weights indexed by economist.\"\"\"\n",
    "    if method == \"equal\":\n",
    "        n = hist[\"economist\"].nunique()\n",
    "        return pd.Series(1.0 / n, index=hist[\"economist\"].unique())\n",
    "\n",
    "    if method == \"inv_mse\":\n",
    "        score = (hist.groupby(\"economist\")[\"error\"]\n",
    "                       .apply(lambda s: np.nanmean(np.square(s))))\n",
    "    else:                                   # inv_mae\n",
    "        score = (hist.groupby(\"economist\")[\"error\"]\n",
    "                       .apply(lambda s: np.nanmean(np.abs(s))))\n",
    "    w = 1.0 / (score + RIDGE)\n",
    "    return w / w.sum()\n",
    "\n",
    "# ---------- walk-forward ----------\n",
    "dates = np.sort(PANEL[\"release_date\"].unique())\n",
    "records = []\n",
    "\n",
    "outer = list(product(WINDOWS, METHODS))\n",
    "for win, meth in tqdm(outer, desc=\"window × method\", total=len(outer)):\n",
    "    for idx in tqdm(range(win, len(dates)),\n",
    "                    desc=f\"{win}-wk {meth}\", leave=False,\n",
    "                    total=len(dates) - win):\n",
    "\n",
    "        t = dates[idx]\n",
    "        hist = PANEL[PANEL[\"release_date\"].isin(dates[idx-win:idx])]\n",
    "\n",
    "        # contiguity\n",
    "        elig = (hist.groupby(\"economist\")[\"forecast\"]\n",
    "                     .apply(lambda s: s.notna().all()))\n",
    "        econs = elig[elig].index\n",
    "        if econs.empty:\n",
    "            continue\n",
    "\n",
    "        w = calc_weights(hist[hist[\"economist\"].isin(econs)], meth)\n",
    "\n",
    "        cur = PANEL[(PANEL[\"release_date\"] == t) &\n",
    "                    (PANEL[\"economist\"].isin(w.index))]\n",
    "        f_t = cur.set_index(\"economist\")[\"forecast\"].dropna()\n",
    "        w   = w.reindex(f_t.index).dropna()\n",
    "        if w.empty:\n",
    "            continue\n",
    "        w /= w.sum()\n",
    "\n",
    "        point  = np.dot(w, f_t.loc[w.index])\n",
    "        median = PANEL.loc[PANEL[\"release_date\"] == t,\n",
    "                           \"forecast\"].dropna().median()\n",
    "        actual = PANEL.loc[PANEL[\"release_date\"] == t,\n",
    "                           \"actual\"].iloc[0]\n",
    "\n",
    "        records.append({\n",
    "            \"window\": win, \"method\": meth, \"date\": t,\n",
    "            \"point\": point, \"median\": median, \"actual\": actual\n",
    "        })\n",
    "\n",
    "results = pd.DataFrame(records)\n",
    "\n",
    "# ---------- evaluate each method ----------\n",
    "eval_rows = []\n",
    "for win, meth in product(WINDOWS, METHODS):\n",
    "    sub = results[(results[\"window\"] == win) & (results[\"method\"] == meth)\n",
    "                  & results[\"actual\"].notna()].copy()\n",
    "    if sub.empty:\n",
    "        continue\n",
    "\n",
    "    sub[\"error\"]    = sub[\"point\"] - sub[\"actual\"]\n",
    "    sub[\"dir_pred\"] = (sub[\"point\"] > sub[\"median\"]).astype(int)\n",
    "    sub[\"dir_act\"]  = (sub[\"actual\"] > sub[\"median\"]).astype(int)\n",
    "\n",
    "    obs   = len(sub)\n",
    "    rmse  = np.sqrt((sub[\"error\"]**2).mean())\n",
    "    hits  = (sub[\"dir_pred\"] == sub[\"dir_act\"]).sum()\n",
    "    eval_rows.append({\"window\": win, \"method\": meth,\n",
    "                      \"obs\": obs, \"RMSE\": rmse,\n",
    "                      \"HitRate\": hits / obs})\n",
    "\n",
    "summary = (pd.DataFrame(eval_rows)\n",
    "           .sort_values([\"window\", \"method\"])\n",
    "           .reset_index(drop=True))\n",
    "\n",
    "print(\"=== Individual-method performance ===\")\n",
    "print(summary.to_string(index=False, float_format=\"{:.3f}\".format))\n",
    "\n",
    "# ---------- choose best window ----------\n",
    "best_win = (summary.groupby(\"window\")[\"HitRate\"].mean()\n",
    "                     .idxmax())\n",
    "print(f\"\\nChosen window for ensemble = {best_win} releases\")\n",
    "\n",
    "# ---------- majority vote ----------\n",
    "ensemble_rows = []\n",
    "for t in dates[best_win:]:\n",
    "    slice_ = results[(results[\"window\"] == best_win) &\n",
    "                     (results[\"date\"] == t)]\n",
    "    if slice_.shape[0] < 3 or pd.isna(slice_[\"actual\"].iloc[0]):\n",
    "        continue\n",
    "\n",
    "    votes = (slice_[\"point\"] > slice_[\"median\"]).astype(int).values\n",
    "    robust_dir = int(votes.sum() >= 2)\n",
    "    point_mean = slice_[\"point\"].mean()\n",
    "\n",
    "    actual = slice_[\"actual\"].iloc[0]\n",
    "    error  = point_mean - actual\n",
    "    dir_act = int(actual > slice_[\"median\"].iloc[0])\n",
    "\n",
    "    ensemble_rows.append({\"date\": t, \"point\": point_mean,\n",
    "                          \"error\": error,\n",
    "                          \"dir_pred\": robust_dir,\n",
    "                          \"dir_act\": dir_act})\n",
    "\n",
    "robust_df = pd.DataFrame(ensemble_rows)\n",
    "robust_rmse = np.sqrt((robust_df[\"error\"]**2).mean())\n",
    "robust_rate = (robust_df[\"dir_pred\"] == robust_df[\"dir_act\"]).mean()\n",
    "\n",
    "print(f\"\\n=== Majority-vote ensemble (window {best_win}) ===\")\n",
    "print(f\"Observations          : {len(robust_df)}\")\n",
    "print(f\"RMSE (ensemble point) : {robust_rmse:.3f}\")\n",
    "print(f\"Hit-rate (direction)  : {robust_rate:.3f}\")\n",
    "\n",
    "# ---------- latest unreleased week ----------\n",
    "latest = results[(results[\"window\"] == best_win) &\n",
    "                 results[\"actual\"].isna()]\n",
    "if not latest.empty:\n",
    "    print(\"\\n--- Latest unreleased week ---\")\n",
    "    for m in METHODS:\n",
    "        pt = latest.loc[latest[\"method\"] == m, \"point\"].iloc[0]\n",
    "        print(f\"{m:8s} point forecast: {pt:.1f}\")\n",
    "    mv_dir = \"Beat\" if (latest[\"point\"] > latest[\"median\"]).mean() >= 0.67 else \"Miss\"\n",
    "    print(f\"Majority vote direction: {mv_dir}\")\n"
   ]
  },
  {
   "cell_type": "code",
   "execution_count": 9,
   "id": "86454624",
   "metadata": {},
   "outputs": [
    {
     "name": "stdout",
     "output_type": "stream",
     "text": [
      "=== Individual-method performance (incl. crowd baseline) ===\n",
      " window       method  obs    RMSE  HitRate\n",
      "      4 crowd_median 1014 122.423      NaN\n",
      "      4        equal 1014 116.295    0.551\n",
      "      4      inv_mae 1014  96.728    0.562\n",
      "      4      inv_mse 1014  76.064    0.551\n",
      "     12 crowd_median 1006 122.902      NaN\n",
      "     12        equal 1006 116.154    0.562\n",
      "     12      inv_mae 1006 105.431    0.564\n",
      "     12      inv_mse 1006  92.361    0.566\n",
      "     24 crowd_median  994 123.623      NaN\n",
      "     24        equal  994  86.074    0.543\n",
      "     24      inv_mae  994  80.975    0.548\n",
      "     24      inv_mse  994  79.111    0.550\n"
     ]
    }
   ],
   "source": [
    "# ---------- evaluate each method ----------\n",
    "\n",
    "eval_rows = []\n",
    "baseline_rows = []              # store crowd-median metrics per window\n",
    "\n",
    "for win, meth in product(WINDOWS, METHODS):\n",
    "    # subset with realised actuals\n",
    "    sub = results[\n",
    "        (results[\"window\"] == win) &\n",
    "        (results[\"method\"] == meth) &\n",
    "        results[\"actual\"].notna()\n",
    "    ].copy()\n",
    "    if sub.empty:\n",
    "        continue\n",
    "\n",
    "    # ensemble metrics\n",
    "    sub[\"error\"]    = sub[\"point\"] - sub[\"actual\"]\n",
    "    sub[\"dir_pred\"] = (sub[\"point\"]  > sub[\"median\"]).astype(int)\n",
    "    sub[\"dir_act\"]  = (sub[\"actual\"] > sub[\"median\"]).astype(int)\n",
    "\n",
    "    obs   = len(sub)\n",
    "    rmse  = np.sqrt((sub[\"error\"]**2).mean())\n",
    "    hits  = (sub[\"dir_pred\"] == sub[\"dir_act\"]).sum()\n",
    "\n",
    "    eval_rows.append(\n",
    "        {\"window\": win, \"method\": meth, \"obs\": obs,\n",
    "         \"RMSE\": rmse, \"HitRate\": hits / obs}\n",
    "    )\n",
    "\n",
    "    # ---------- baseline crowd-median for THIS window ----------\n",
    "    # only compute once per window (equal across methods)\n",
    "    if meth == METHODS[0]:      # first pass for this window\n",
    "        base_err   = sub[\"median\"] - sub[\"actual\"]\n",
    "        base_rmse  = np.sqrt((base_err**2).mean())\n",
    "        base_hits  = (sub[\"dir_act\"] == 0).mean()  # median vs itself ⇒ always miss\n",
    "        baseline_rows.append(\n",
    "            {\"window\": win, \"method\": \"crowd_median\",\n",
    "             \"obs\": obs, \"RMSE\": base_rmse, \"HitRate\": np.nan}\n",
    "        )\n",
    "\n",
    "# combine frames: ensemble methods + crowd baseline\n",
    "summary = (\n",
    "    pd.concat([pd.DataFrame(eval_rows), pd.DataFrame(baseline_rows)])\n",
    "      .sort_values([\"window\", \"method\"])\n",
    "      .reset_index(drop=True)\n",
    ")\n",
    "\n",
    "print(\"=== Individual-method performance (incl. crowd baseline) ===\")\n",
    "print(summary.to_string(index=False, float_format=\"{:.3f}\".format))\n"
   ]
  }
 ],
 "metadata": {
  "kernelspec": {
   "display_name": "Python 3",
   "language": "python",
   "name": "python3"
  },
  "language_info": {
   "codemirror_mode": {
    "name": "ipython",
    "version": 3
   },
   "file_extension": ".py",
   "mimetype": "text/x-python",
   "name": "python",
   "nbconvert_exporter": "python",
   "pygments_lexer": "ipython3",
   "version": "3.13.4"
  }
 },
 "nbformat": 4,
 "nbformat_minor": 5
}
