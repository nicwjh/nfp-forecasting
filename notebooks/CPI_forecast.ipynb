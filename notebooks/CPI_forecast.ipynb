{
 "cells": [
  {
   "cell_type": "markdown",
   "id": "b628517b",
   "metadata": {},
   "source": [
    "# Forecasting Consensus Expectations: Consumer Price Index\n",
    "\n",
    "## Point + Directional + Distributional Forecasts"
   ]
  },
  {
   "cell_type": "markdown",
   "id": "78948993",
   "metadata": {},
   "source": []
  }
 ],
 "metadata": {
  "language_info": {
   "name": "python"
  }
 },
 "nbformat": 4,
 "nbformat_minor": 5
}
