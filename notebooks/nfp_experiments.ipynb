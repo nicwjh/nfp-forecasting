{
 "cells": [
  {
   "cell_type": "markdown",
   "id": "8314f30f",
   "metadata": {},
   "source": [
    "# Nicholas W.: Forecasting Consensus Expectations of Nonfarm Payrolls (NFP)\n",
    "\n",
    "# Miscellaneous experiments"
   ]
  },
  {
   "cell_type": "code",
   "execution_count": 2,
   "id": "4465acb1",
   "metadata": {},
   "outputs": [],
   "source": [
    "import os\n",
    "import warnings\n",
    "import math\n",
    "import json\n",
    "import itertools\n",
    "import pandas as pd\n",
    "import matplotlib.pyplot as plt\n",
    "import numpy as np\n",
    "import scipy.stats as st\n",
    "\n",
    "from tqdm.auto import tqdm\n",
    "from typing import List, Tuple, Dict, Any\n",
    "from scipy import stats, special\n",
    "from scipy.optimize import brentq, minimize\n",
    "from scipy.stats import t as student_t, norm, binomtest, jarque_bera\n",
    "from sklearn.mixture import GaussianMixture\n",
    "from collections import defaultdict\n",
    "from itertools import product\n",
    "from arch.univariate import ConstantMean, GARCH, StudentsT\n",
    "from arch.univariate.base import ConvergenceWarning\n",
    "from IPython.display import display, Markdown\n",
    "from statsmodels.stats.diagnostic import acorr_ljungbox\n",
    "from statsmodels.tsa.stattools import acf\n",
    "from pandas.tseries.offsets import MonthBegin\n",
    "\n",
    "warnings.filterwarnings(\"ignore\")"
   ]
  },
  {
   "cell_type": "code",
   "execution_count": 3,
   "id": "c4859ca9",
   "metadata": {},
   "outputs": [
    {
     "name": "stdout",
     "output_type": "stream",
     "text": [
      "df shape     : (17046, 10)\n",
      "df_full shape: (19375, 10)\n"
     ]
    }
   ],
   "source": [
    "OUT_DIR = \"../out\"        \n",
    "DF_FILE       = \"nfp_df.parquet\"\n",
    "DF_FULL_FILE  = \"nfp_df_full.parquet\"\n",
    "\n",
    "df       = pd.read_parquet(os.path.join(OUT_DIR, DF_FILE),      engine=\"pyarrow\")\n",
    "df_full  = pd.read_parquet(os.path.join(OUT_DIR, DF_FULL_FILE), engine=\"pyarrow\")\n",
    "\n",
    "print(\"df shape     :\", df.shape)\n",
    "print(\"df_full shape:\", df_full.shape)"
   ]
  },
  {
   "cell_type": "markdown",
   "id": "6812f788",
   "metadata": {},
   "source": [
    "## E1: Optimal rolling window length for uncertainty quantification and confidence intervals built around uncertainty in the cross-section\n",
    "\n",
    "In this section, we test empirically whether accurate confidence intervals can be built using solely cross-sectional spread (standard deviation of forecasts). We also test different rolling window lengths for student-t confidence intervals.\n",
    "\n",
    "Conclusion: Confidence intervals **cannot** be built solely from cross-sectional forecast spread and we find that a **36-month** rolling window length provides the tightest empirical coverage relative to nominal. "
   ]
  },
  {
   "cell_type": "code",
   "execution_count": null,
   "id": "6ce3f011",
   "metadata": {},
   "outputs": [
    {
     "data": {
      "application/vnd.jupyter.widget-view+json": {
       "model_id": "840dbcb46765494a86bba01e191555b0",
       "version_major": 2,
       "version_minor": 0
      },
      "text/plain": [
       "COVID XS:   0%|          | 0/231 [00:00<?, ?it/s]"
      ]
     },
     "metadata": {},
     "output_type": "display_data"
    },
    {
     "ename": "TypeError",
     "evalue": "cannot unpack non-iterable float object",
     "output_type": "error",
     "traceback": [
      "\u001b[31m---------------------------------------------------------------------------\u001b[39m",
      "\u001b[31mTypeError\u001b[39m                                 Traceback (most recent call last)",
      "\u001b[36mCell\u001b[39m\u001b[36m \u001b[39m\u001b[32mIn[6]\u001b[39m\u001b[32m, line 34\u001b[39m\n\u001b[32m     31\u001b[39m emp_vec = [xs_hits[L] / xs_tot \u001b[38;5;28;01mfor\u001b[39;00m L \u001b[38;5;129;01min\u001b[39;00m LEVELS]   \u001b[38;5;66;03m# six empirical coverages\u001b[39;00m\n\u001b[32m     32\u001b[39m mag     = _mean_abs_gap(emp_vec) \n\u001b[32m---> \u001b[39m\u001b[32m34\u001b[39m \u001b[38;5;28;01mfor\u001b[39;00m L, e \u001b[38;5;129;01min\u001b[39;00m LEVELS:\n\u001b[32m     35\u001b[39m     rows.append({\u001b[33m\"\u001b[39m\u001b[33mMethod\u001b[39m\u001b[33m\"\u001b[39m: \u001b[33mf\u001b[39m\u001b[33m\"\u001b[39m\u001b[38;5;132;01m{\u001b[39;00mpanel_name\u001b[38;5;132;01m}\u001b[39;00m\u001b[33m-XS-t\u001b[39m\u001b[33m\"\u001b[39m,\n\u001b[32m     36\u001b[39m                  \u001b[33m\"\u001b[39m\u001b[33mNominal\u001b[39m\u001b[33m\"\u001b[39m: L,\n\u001b[32m     37\u001b[39m                  \u001b[33m\"\u001b[39m\u001b[33mEmpirical\u001b[39m\u001b[33m\"\u001b[39m: e,\n\u001b[32m     38\u001b[39m                  \u001b[33m\"\u001b[39m\u001b[33mMAG\u001b[39m\u001b[33m\"\u001b[39m: mag})\n\u001b[32m     40\u001b[39m \u001b[38;5;66;03m# time-series\u001b[39;00m\n",
      "\u001b[31mTypeError\u001b[39m: cannot unpack non-iterable float object"
     ]
    }
   ],
   "source": [
    "LEVELS  = [0.50, 0.60, 0.70, 0.80, 0.90, 0.95]\n",
    "TS_WINS = [12, 24, 36, 60, 120]          # months\n",
    "MIN_XS  = 5                          # min forecasts in cross-section\n",
    "PANELS  = {\"COVID\": df, \"Full\": df_full}\n",
    "\n",
    "def _mean_abs_gap(empirical_vec, levels=LEVELS):\n",
    "    \"\"\"Mean-absolute gap between empirical and nominal coverages.\"\"\"\n",
    "    return float(np.abs(np.array(empirical_vec) - np.array(levels)).mean())\n",
    "\n",
    "def in_band(center, sig, nu, level, actual):\n",
    "    half = st.t.ppf(1 - (1-level)/2, df=nu) * sig\n",
    "    return int(center - half <= actual <= center + half)\n",
    "\n",
    "rows = []\n",
    "\n",
    "for panel_name, panel in PANELS.items():\n",
    "\n",
    "    # cross-section \n",
    "    xs_hits = {L: 0 for L in LEVELS};  xs_tot = 0\n",
    "\n",
    "    for date, grp in tqdm(panel.groupby(\"release_date\"), desc=f\"{panel_name} XS\"):\n",
    "        sample = grp[\"forecast\"].dropna().values\n",
    "        act    = grp[\"actual\"].iloc[0]\n",
    "        if len(sample) < MIN_XS or np.isnan(act):\n",
    "            continue\n",
    "        nu, loc, sig = st.t.fit(sample)           # μ̂ = loc\n",
    "        for L in LEVELS:\n",
    "            xs_hits[L] += in_band(loc, sig, nu, L, act)\n",
    "        xs_tot += 1\n",
    "    \n",
    "    emp_vec = [xs_hits[L] / xs_tot for L in LEVELS]   # six empirical coverages\n",
    "    mag     = _mean_abs_gap(emp_vec) \n",
    "\n",
    "    for L, e in zip(LEVELS, emp_vec):\n",
    "        rows.append({\"Method\": f\"{panel_name}-XS-t\",\n",
    "                     \"Nominal\": L,\n",
    "                     \"Empirical\": e,\n",
    "                     \"MAG\": mag})\n",
    "\n",
    "    # time-series\n",
    "    ts_hits = {w:{L:0 for L in LEVELS} for w in TS_WINS}\n",
    "    ts_tot  = {w:0 for w in TS_WINS}\n",
    "\n",
    "    panel_sorted = panel.sort_values(\"release_date\")\n",
    "    err_series = (panel_sorted.groupby(\"release_date\")\n",
    "                                .apply(lambda g: g[\"median_forecast\"].iloc[0] - g[\"actual\"].iloc[0])\n",
    "                                .dropna())\n",
    "    dates = err_series.index.to_list()\n",
    "\n",
    "    for win in TS_WINS:\n",
    "        for i in tqdm(range(win, len(dates)), desc=f\"{panel_name} TS {win}m\", leave=False):\n",
    "            train_errs = err_series.iloc[i-win:i].values\n",
    "            if train_errs.size < win:\n",
    "                continue\n",
    "            nu, mu, sig = st.t.fit(train_errs)\n",
    "\n",
    "            cur_date   = dates[i]\n",
    "            slc        = panel_sorted[panel_sorted[\"release_date\"] == cur_date]\n",
    "            point_med  = slc[\"median_forecast\"].iloc[0]   # centre at median + μ̂\n",
    "            actual_val = slc[\"actual\"].iloc[0]\n",
    "            if np.isnan(actual_val):\n",
    "                continue\n",
    "\n",
    "            center_ts  = point_med + mu                   # overall centre\n",
    "            for L in LEVELS:\n",
    "                ts_hits[win][L] += in_band(center_ts, sig, nu, L, actual_val)\n",
    "            ts_tot[win] += 1\n",
    "            \n",
    "        emp_vec_win = [ts_hits[win][L] / ts_tot[win] for L in LEVELS]\n",
    "        mag_win     = _mean_abs_gap(emp_vec_win)\n",
    "\n",
    "        for L, e in zip(LEVELS, emp_vec_win):\n",
    "            rows.append({\"Method\": f\"{panel_name}-TS-t_{win}m\",\n",
    "                         \"Nominal\": L,\n",
    "                         \"Empirical\": e,\n",
    "                         \"MAG\": mag})\n",
    "\n",
    "df = pd.DataFrame(rows)\n",
    "\n",
    "coverage_df = (df\n",
    "               .pivot(index=\"Method\", columns=\"Nominal\", values=\"Empirical\")\n",
    "               .sort_index())\n",
    "\n",
    "coverage_df[\"MAG\"] = (df\n",
    "                      .drop_duplicates(\"Method\")\n",
    "                      .set_index(\"Method\")[\"MAG\"]\n",
    "                      .reindex(coverage_df.index))\n",
    "\n",
    "print(\"\\nEmpirical vs nominal coverage (XS/TS-t centred at μ̂)\")\n",
    "print(coverage_df.to_string(float_format=lambda x: f\"{x:0.3f}\"))\n"
   ]
  }
 ],
 "metadata": {
  "kernelspec": {
   "display_name": "Python 3",
   "language": "python",
   "name": "python3"
  },
  "language_info": {
   "codemirror_mode": {
    "name": "ipython",
    "version": 3
   },
   "file_extension": ".py",
   "mimetype": "text/x-python",
   "name": "python",
   "nbconvert_exporter": "python",
   "pygments_lexer": "ipython3",
   "version": "3.13.4"
  }
 },
 "nbformat": 4,
 "nbformat_minor": 5
}
